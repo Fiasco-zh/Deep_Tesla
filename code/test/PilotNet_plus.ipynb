{
 "cells": [
  {
   "cell_type": "markdown",
   "metadata": {},
   "source": [
    "## 修改训练集\n",
    "## 修改网络结构，参考pilotnet\n",
    "## 修改评估函数"
   ]
  },
  {
   "cell_type": "code",
   "execution_count": 1,
   "metadata": {
    "collapsed": true
   },
   "outputs": [],
   "source": [
    "import cv2\n",
    "import numpy as np\n",
    "import pandas as pd"
   ]
  },
  {
   "cell_type": "code",
   "execution_count": 2,
   "metadata": {
    "collapsed": true
   },
   "outputs": [],
   "source": [
    "mkv_file_path = ['./epochs/epoch{:02d}_front.mkv'.format(i) for i in range(1,10)]\n",
    "steering_file_path = ['./epochs/epoch{:02d}_steering.csv'.format(i) for i in range(1,10)]\n",
    "paths = [mkv_file_path,steering_file_path]"
   ]
  },
  {
   "cell_type": "code",
   "execution_count": 3,
   "metadata": {
    "collapsed": true
   },
   "outputs": [],
   "source": [
    "#数据预处理方法\n",
    "def read_mkv(path):\n",
    "    cap = cv2.VideoCapture(path)\n",
    "    success,frame = cap.read()\n",
    "    pic = []\n",
    "\n",
    "    while(success):\n",
    "        frame = cv2.resize(frame,(320,180),interpolation=cv2.INTER_CUBIC)\n",
    "        pic.append(frame[80:-30,30:-30])\n",
    "\n",
    "        success,frame = cap.read()\n",
    "    return np.array(pic)\n",
    "\n",
    "def read_steering(path):\n",
    "    return pd.read_csv(path).wheel.values"
   ]
  },
  {
   "cell_type": "code",
   "execution_count": 4,
   "metadata": {
    "collapsed": true
   },
   "outputs": [],
   "source": [
    "# 读取所有视频和转向角度\n",
    "features=[]\n",
    "labels = []\n",
    "for i in range(9):\n",
    "    features.append(read_mkv(paths[0][i]))\n",
    "    labels.append(read_steering(paths[1][i]))"
   ]
  },
  {
   "cell_type": "code",
   "execution_count": 5,
   "metadata": {},
   "outputs": [
    {
     "data": {
      "text/plain": [
       "(1500, 70, 260, 3)"
      ]
     },
     "execution_count": 5,
     "metadata": {},
     "output_type": "execute_result"
    }
   ],
   "source": [
    "features[0].shape"
   ]
  },
  {
   "cell_type": "code",
   "execution_count": 48,
   "metadata": {},
   "outputs": [
    {
     "name": "stdout",
     "output_type": "stream",
     "text": [
      "feature saved successfully!\n",
      "label saved successfully!\n"
     ]
    }
   ],
   "source": [
    "# 保存视频和转向角度\n",
    "feature = np.concatenate(tuple(features))\n",
    "label = np.concatenate(tuple(labels))\n",
    "indices = np.random.permutation(feature.shape[0])\n",
    "feature = feature[indices]\n",
    "label = label[indices]\n",
    "np.save('feature4.npy',feature)\n",
    "print('feature saved successfully!')\n",
    "\n",
    "np.save('label4.npy',label)\n",
    "print('label saved successfully!')"
   ]
  },
  {
   "cell_type": "code",
   "execution_count": 4,
   "metadata": {},
   "outputs": [
    {
     "name": "stdout",
     "output_type": "stream",
     "text": [
      "feature3 loaded successfully!\n",
      "label3 loaded successfully!\n"
     ]
    },
    {
     "data": {
      "text/plain": [
       "(24300, 70, 260, 3)"
      ]
     },
     "execution_count": 4,
     "metadata": {},
     "output_type": "execute_result"
    }
   ],
   "source": [
    "#加载数据\n",
    "feature = np.load('feature4.npy')\n",
    "print('feature3 loaded successfully!')\n",
    "label = np.load('label4.npy')\n",
    "print('label3 loaded successfully!')\n",
    "feature.shape"
   ]
  },
  {
   "cell_type": "code",
   "execution_count": 5,
   "metadata": {
    "collapsed": true
   },
   "outputs": [],
   "source": [
    "# feature = feature/255."
   ]
  },
  {
   "cell_type": "code",
   "execution_count": 5,
   "metadata": {},
   "outputs": [
    {
     "name": "stderr",
     "output_type": "stream",
     "text": [
      "Using TensorFlow backend.\n"
     ]
    }
   ],
   "source": [
    "from keras.layers import Dense,Activation,Convolution2D,MaxPooling2D,Flatten,Dropout,BatchNormalization\n",
    "from keras.models import Sequential\n",
    "from keras.optimizers import Adam,Adadelta"
   ]
  },
  {
   "cell_type": "code",
   "execution_count": 18,
   "metadata": {},
   "outputs": [],
   "source": [
    "model = Sequential()\n",
    "\n",
    "model.add(BatchNormalization(input_shape=(70,260,3)))\n",
    "\n",
    "model.add(Convolution2D(kernel_size=(5,5),filters = 24,padding='same',strides=(2,2),input_shape=(70,260,3),data_format='channels_last',kernel_initializer='truncated_normal'))\n",
    "model.add(Activation('relu'))\n",
    "# model.add(MaxPooling2D(pool_size=(2,2)))\n",
    "model.add(BatchNormalization())\n",
    "\n",
    "model.add(Convolution2D(kernel_size=(5,5),filters = 36,padding='same',strides=(2,2),data_format='channels_last'))\n",
    "model.add(Activation('relu'))\n",
    "# model.add(MaxPooling2D(pool_size=(2,2)))\n",
    "model.add(BatchNormalization())\n",
    "\n",
    "model.add(Convolution2D(kernel_size=(5,5),filters = 48,padding='same',strides=(2,2),data_format='channels_last'))\n",
    "model.add(Activation('relu'))\n",
    "model.add(BatchNormalization())\n",
    "\n",
    "# model.add(Convolution2D(kernel_size=(5,5),filters = 128,padding='same',strides=(1,1),data_format='channels_last'))\n",
    "# model.add(Activation('relu'))\n",
    "model.add(MaxPooling2D(pool_size=(2,2)))\n",
    "\n",
    "model.add(Convolution2D(kernel_size=(3,3),filters = 64,padding='same',strides=(1,1),data_format='channels_last'))\n",
    "model.add(Activation('relu'))\n",
    "# model.add(MaxPooling2D(pool_size=(2,2)))\n",
    "model.add(BatchNormalization())\n",
    "\n",
    "model.add(Convolution2D(kernel_size=(3,3),filters = 64,padding='same',strides=(1,1),data_format='channels_last'))\n",
    "model.add(Activation('relu'))\n",
    "model.add(BatchNormalization())\n",
    "# model.add(MaxPooling2D(pool_size=(2,2)))\n",
    "\n",
    "model.add(Convolution2D(kernel_size=(3,3),filters = 128,padding='same',strides=(1,1),data_format='channels_last'))\n",
    "model.add(Activation('relu'))\n",
    "model.add(BatchNormalization())\n",
    "\n",
    "model.add(Convolution2D(kernel_size=(3,3),filters = 128,padding='same',strides=(1,1),data_format='channels_last'))\n",
    "model.add(Activation('relu'))\n",
    "model.add(BatchNormalization())\n",
    "# model.add(MaxPooling2D(pool_size=(2,2)))\n",
    "model.add(Convolution2D(kernel_size=(3,3),filters = 256 ,padding='same',strides=(1,1),data_format='channels_last'))\n",
    "model.add(Activation('relu'))\n",
    "model.add(BatchNormalization())\n",
    "\n",
    "model.add(Convolution2D(kernel_size=(3,3),filters = 256,padding='same',strides=(1,1),data_format='channels_last'))\n",
    "model.add(Activation('relu'))\n",
    "model.add(BatchNormalization())\n",
    "model.add(MaxPooling2D(pool_size=(2,2)))\n",
    "\n",
    "model.add(Flatten())\n",
    "\n",
    "model.add(Dense(1024))\n",
    "model.add(Activation('relu'))\n",
    "model.add(BatchNormalization())\n",
    "model.add(Dropout(0.5))\n",
    "\n",
    "model.add(Dense(1024))\n",
    "model.add(Activation('relu'))\n",
    "model.add(BatchNormalization())\n",
    "model.add(Dropout(0.5))\n",
    "\n",
    "model.add(Dense(512))\n",
    "model.add(Activation('relu'))\n",
    "model.add(BatchNormalization())\n",
    "model.add(Dropout(0.5))\n",
    "\n",
    "model.add(Dense(1))\n",
    "adam = Adadelta()"
   ]
  },
  {
   "cell_type": "code",
   "execution_count": 7,
   "metadata": {
    "collapsed": true
   },
   "outputs": [],
   "source": [
    "import keras.backend as K\n",
    "\n",
    "def missing_rate(y_true, y_pred):\n",
    "    return K.mean(abs(y_pred-y_true))/33."
   ]
  },
  {
   "cell_type": "code",
   "execution_count": 19,
   "metadata": {
    "collapsed": true
   },
   "outputs": [],
   "source": [
    "model.compile(optimizer=adam,\n",
    "             loss = 'mean_squared_error',\n",
    "             metrics = [missing_rate])"
   ]
  },
  {
   "cell_type": "code",
   "execution_count": 20,
   "metadata": {
    "scrolled": true
   },
   "outputs": [
    {
     "name": "stdout",
     "output_type": "stream",
     "text": [
      "_________________________________________________________________\n",
      "Layer (type)                 Output Shape              Param #   \n",
      "=================================================================\n",
      "batch_normalization_37 (Batc (None, 70, 260, 3)        12        \n",
      "_________________________________________________________________\n",
      "conv2d_28 (Conv2D)           (None, 35, 130, 24)       1824      \n",
      "_________________________________________________________________\n",
      "activation_34 (Activation)   (None, 35, 130, 24)       0         \n",
      "_________________________________________________________________\n",
      "batch_normalization_38 (Batc (None, 35, 130, 24)       96        \n",
      "_________________________________________________________________\n",
      "conv2d_29 (Conv2D)           (None, 18, 65, 36)        21636     \n",
      "_________________________________________________________________\n",
      "activation_35 (Activation)   (None, 18, 65, 36)        0         \n",
      "_________________________________________________________________\n",
      "batch_normalization_39 (Batc (None, 18, 65, 36)        144       \n",
      "_________________________________________________________________\n",
      "conv2d_30 (Conv2D)           (None, 9, 33, 48)         43248     \n",
      "_________________________________________________________________\n",
      "activation_36 (Activation)   (None, 9, 33, 48)         0         \n",
      "_________________________________________________________________\n",
      "batch_normalization_40 (Batc (None, 9, 33, 48)         192       \n",
      "_________________________________________________________________\n",
      "max_pooling2d_7 (MaxPooling2 (None, 4, 16, 48)         0         \n",
      "_________________________________________________________________\n",
      "conv2d_31 (Conv2D)           (None, 4, 16, 64)         27712     \n",
      "_________________________________________________________________\n",
      "activation_37 (Activation)   (None, 4, 16, 64)         0         \n",
      "_________________________________________________________________\n",
      "batch_normalization_41 (Batc (None, 4, 16, 64)         256       \n",
      "_________________________________________________________________\n",
      "conv2d_32 (Conv2D)           (None, 4, 16, 64)         36928     \n",
      "_________________________________________________________________\n",
      "activation_38 (Activation)   (None, 4, 16, 64)         0         \n",
      "_________________________________________________________________\n",
      "batch_normalization_42 (Batc (None, 4, 16, 64)         256       \n",
      "_________________________________________________________________\n",
      "conv2d_33 (Conv2D)           (None, 4, 16, 128)        73856     \n",
      "_________________________________________________________________\n",
      "activation_39 (Activation)   (None, 4, 16, 128)        0         \n",
      "_________________________________________________________________\n",
      "batch_normalization_43 (Batc (None, 4, 16, 128)        512       \n",
      "_________________________________________________________________\n",
      "conv2d_34 (Conv2D)           (None, 4, 16, 128)        147584    \n",
      "_________________________________________________________________\n",
      "activation_40 (Activation)   (None, 4, 16, 128)        0         \n",
      "_________________________________________________________________\n",
      "batch_normalization_44 (Batc (None, 4, 16, 128)        512       \n",
      "_________________________________________________________________\n",
      "conv2d_35 (Conv2D)           (None, 4, 16, 256)        295168    \n",
      "_________________________________________________________________\n",
      "activation_41 (Activation)   (None, 4, 16, 256)        0         \n",
      "_________________________________________________________________\n",
      "batch_normalization_45 (Batc (None, 4, 16, 256)        1024      \n",
      "_________________________________________________________________\n",
      "conv2d_36 (Conv2D)           (None, 4, 16, 256)        590080    \n",
      "_________________________________________________________________\n",
      "activation_42 (Activation)   (None, 4, 16, 256)        0         \n",
      "_________________________________________________________________\n",
      "batch_normalization_46 (Batc (None, 4, 16, 256)        1024      \n",
      "_________________________________________________________________\n",
      "max_pooling2d_8 (MaxPooling2 (None, 2, 8, 256)         0         \n",
      "_________________________________________________________________\n",
      "flatten_3 (Flatten)          (None, 4096)              0         \n",
      "_________________________________________________________________\n",
      "dense_9 (Dense)              (None, 1024)              4195328   \n",
      "_________________________________________________________________\n",
      "activation_43 (Activation)   (None, 1024)              0         \n",
      "_________________________________________________________________\n",
      "batch_normalization_47 (Batc (None, 1024)              4096      \n",
      "_________________________________________________________________\n",
      "dropout_1 (Dropout)          (None, 1024)              0         \n",
      "_________________________________________________________________\n",
      "dense_10 (Dense)             (None, 1024)              1049600   \n",
      "_________________________________________________________________\n",
      "activation_44 (Activation)   (None, 1024)              0         \n",
      "_________________________________________________________________\n",
      "batch_normalization_48 (Batc (None, 1024)              4096      \n",
      "_________________________________________________________________\n",
      "dropout_2 (Dropout)          (None, 1024)              0         \n",
      "_________________________________________________________________\n",
      "dense_11 (Dense)             (None, 512)               524800    \n",
      "_________________________________________________________________\n",
      "activation_45 (Activation)   (None, 512)               0         \n",
      "_________________________________________________________________\n",
      "batch_normalization_49 (Batc (None, 512)               2048      \n",
      "_________________________________________________________________\n",
      "dropout_3 (Dropout)          (None, 512)               0         \n",
      "_________________________________________________________________\n",
      "dense_12 (Dense)             (None, 1)                 513       \n",
      "=================================================================\n",
      "Total params: 7,022,545\n",
      "Trainable params: 7,015,411\n",
      "Non-trainable params: 7,134\n",
      "_________________________________________________________________\n"
     ]
    }
   ],
   "source": [
    "model.summary()"
   ]
  },
  {
   "cell_type": "code",
   "execution_count": 14,
   "metadata": {},
   "outputs": [
    {
     "data": {
      "text/plain": [
       "<matplotlib.image.AxesImage at 0x23f58214e48>"
      ]
     },
     "execution_count": 14,
     "metadata": {},
     "output_type": "execute_result"
    },
    {
     "data": {
      "image/png": "[encoded data removed]",
      "text/plain": [
       "<matplotlib.figure.Figure at 0x23f58172080>"
      ]
     },
     "metadata": {
      "image/png": {
       "height": 124,
       "width": 370
      }
     },
     "output_type": "display_data"
    }
   ],
   "source": [
    "%matplotlib inline\n",
    "%config InlineBackend.figure_format = 'retina'\n",
    "import matplotlib.pyplot as plt\n",
    "plt.imshow(feature[10110])"
   ]
  },
  {
   "cell_type": "code",
   "execution_count": 28,
   "metadata": {
    "scrolled": true
   },
   "outputs": [
    {
     "name": "stdout",
     "output_type": "stream",
     "text": [
      "Train on 21870 samples, validate on 2430 samples\n",
      "Epoch 1/5\n",
      "21870/21870 [==============================] - 29s - loss: 0.4315 - missing_rate: 0.0139 - val_loss: 0.1697 - val_missing_rate: 0.0087\n",
      "Epoch 2/5\n",
      "21870/21870 [==============================] - 29s - loss: 0.4189 - missing_rate: 0.0135 - val_loss: 0.2707 - val_missing_rate: 0.0116\n",
      "Epoch 3/5\n",
      "21870/21870 [==============================] - 29s - loss: 0.4280 - missing_rate: 0.0137 - val_loss: 0.2355 - val_missing_rate: 0.0098\n",
      "Epoch 4/5\n",
      "21870/21870 [==============================] - 29s - loss: 0.4651 - missing_rate: 0.0144 - val_loss: 0.3866 - val_missing_rate: 0.0144\n",
      "Epoch 5/5\n",
      "21870/21870 [==============================] - 29s - loss: 0.4055 - missing_rate: 0.0133 - val_loss: 0.1939 - val_missing_rate: 0.0096\n"
     ]
    },
    {
     "data": {
      "text/plain": [
       "<keras.callbacks.History at 0x240401f1358>"
      ]
     },
     "execution_count": 28,
     "metadata": {},
     "output_type": "execute_result"
    }
   ],
   "source": [
    "model.fit(feature,label,batch_size=256,validation_split=0.1,epochs=5,shuffle=True)"
   ]
  },
  {
   "cell_type": "code",
   "execution_count": 27,
   "metadata": {},
   "outputs": [
    {
     "name": "stdout",
     "output_type": "stream",
     "text": [
      "Train on 21870 samples, validate on 2430 samples\n",
      "Epoch 1/5\n",
      "21870/21870 [==============================] - 29s - loss: 0.4679 - missing_rate: 0.0140 - val_loss: 0.2227 - val_missing_rate: 0.0096\n",
      "Epoch 2/5\n",
      "21870/21870 [==============================] - 29s - loss: 0.4258 - missing_rate: 0.0136 - val_loss: 0.1522 - val_missing_rate: 0.0088\n",
      "Epoch 3/5\n",
      "21870/21870 [==============================] - 29s - loss: 0.4550 - missing_rate: 0.0140 - val_loss: 0.2311 - val_missing_rate: 0.0112\n",
      "Epoch 4/5\n",
      "21870/21870 [==============================] - 29s - loss: 0.4359 - missing_rate: 0.0139 - val_loss: 0.3058 - val_missing_rate: 0.0117\n",
      "Epoch 5/5\n",
      "21870/21870 [==============================] - 29s - loss: 0.4585 - missing_rate: 0.0139 - val_loss: 0.1649 - val_missing_rate: 0.0092\n"
     ]
    },
    {
     "data": {
      "text/plain": [
       "<keras.callbacks.History at 0x23f5c1d89e8>"
      ]
     },
     "execution_count": 27,
     "metadata": {},
     "output_type": "execute_result"
    }
   ],
   "source": [
    "model.fit(feature,label,batch_size=256,validation_split=0.1,epochs=5)"
   ]
  },
  {
   "cell_type": "code",
   "execution_count": 34,
   "metadata": {},
   "outputs": [
    {
     "name": "stdout",
     "output_type": "stream",
     "text": [
      "_________________________________________________________________\n",
      "Layer (type)                 Output Shape              Param #   \n",
      "=================================================================\n",
      "conv2d_47 (Conv2D)           (None, 35, 160, 64)       9472      \n",
      "_________________________________________________________________\n",
      "activation_57 (Activation)   (None, 35, 160, 64)       0         \n",
      "_________________________________________________________________\n",
      "max_pooling2d_36 (MaxPooling (None, 17, 79, 64)        0         \n",
      "_________________________________________________________________\n",
      "conv2d_48 (Conv2D)           (None, 17, 79, 64)        36928     \n",
      "_________________________________________________________________\n",
      "activation_58 (Activation)   (None, 17, 79, 64)        0         \n",
      "_________________________________________________________________\n",
      "conv2d_49 (Conv2D)           (None, 17, 79, 64)        36928     \n",
      "_________________________________________________________________\n",
      "activation_59 (Activation)   (None, 17, 79, 64)        0         \n",
      "_________________________________________________________________\n",
      "max_pooling2d_37 (MaxPooling (None, 8, 39, 64)         0         \n",
      "_________________________________________________________________\n",
      "conv2d_50 (Conv2D)           (None, 8, 39, 128)        73856     \n",
      "_________________________________________________________________\n",
      "activation_60 (Activation)   (None, 8, 39, 128)        0         \n",
      "_________________________________________________________________\n",
      "max_pooling2d_38 (MaxPooling (None, 4, 19, 128)        0         \n",
      "_________________________________________________________________\n",
      "conv2d_51 (Conv2D)           (None, 4, 19, 128)        147584    \n",
      "_________________________________________________________________\n",
      "activation_61 (Activation)   (None, 4, 19, 128)        0         \n",
      "_________________________________________________________________\n",
      "max_pooling2d_39 (MaxPooling (None, 2, 9, 128)         0         \n",
      "_________________________________________________________________\n",
      "conv2d_52 (Conv2D)           (None, 2, 9, 512)         590336    \n",
      "_________________________________________________________________\n",
      "activation_62 (Activation)   (None, 2, 9, 512)         0         \n",
      "_________________________________________________________________\n",
      "max_pooling2d_40 (MaxPooling (None, 1, 4, 512)         0         \n",
      "_________________________________________________________________\n",
      "flatten_7 (Flatten)          (None, 2048)              0         \n",
      "_________________________________________________________________\n",
      "dense_17 (Dense)             (None, 1000)              2049000   \n",
      "_________________________________________________________________\n",
      "activation_63 (Activation)   (None, 1000)              0         \n",
      "_________________________________________________________________\n",
      "dropout_11 (Dropout)         (None, 1000)              0         \n",
      "_________________________________________________________________\n",
      "dense_18 (Dense)             (None, 1)                 1001      \n",
      "=================================================================\n",
      "Total params: 2,945,105\n",
      "Trainable params: 2,945,105\n",
      "Non-trainable params: 0\n",
      "_________________________________________________________________\n"
     ]
    }
   ],
   "source": [
    "model.summary()"
   ]
  },
  {
   "cell_type": "code",
   "execution_count": 29,
   "metadata": {
    "collapsed": true
   },
   "outputs": [],
   "source": [
    "#保存模型配置和权重\n",
    "import h5py\n",
    "model.save_weights('models/model_pilotPlus.h5')\n",
    "with open('models/model_pilotPlus.json','w') as f:\n",
    "    f.write(model.to_json())\n",
    "    f.close()\n",
    "    "
   ]
  },
  {
   "cell_type": "code",
   "execution_count": 2,
   "metadata": {},
   "outputs": [
    {
     "name": "stderr",
     "output_type": "stream",
     "text": [
      "Using TensorFlow backend.\n"
     ]
    }
   ],
   "source": [
    "from keras.models import model_from_json\n",
    "with open('models/model3.json','r') as f:\n",
    "    string = f.read()\n",
    "model = model_from_json(string)\n",
    "model.load_weights('models/model3.h5')"
   ]
  },
  {
   "cell_type": "code",
   "execution_count": 40,
   "metadata": {},
   "outputs": [
    {
     "name": "stdout",
     "output_type": "stream",
     "text": [
      "2688/2700 [============================>.] - ETA: 0s"
     ]
    },
    {
     "data": {
      "text/plain": [
       "[7.627263511375145, 0.070938456726294979]"
      ]
     },
     "execution_count": 40,
     "metadata": {},
     "output_type": "execute_result"
    }
   ],
   "source": [
    "predict_feature = read_mkv('epochs/epoch10_front.mkv')\n",
    "y_true = read_steering('epochs/epoch10_steering.csv')\n",
    "model.evaluate(predict_feature,y_true,batch_size=128)"
   ]
  },
  {
   "cell_type": "code",
   "execution_count": 18,
   "metadata": {
    "collapsed": true
   },
   "outputs": [],
   "source": [
    "predict_feature = read_mkv('epochs/epoch10_front.mkv')"
   ]
  },
  {
   "cell_type": "code",
   "execution_count": 37,
   "metadata": {},
   "outputs": [
    {
     "data": {
      "text/plain": [
       "array([[ 0.60254884],\n",
       "       [ 0.78096074],\n",
       "       [ 0.49349496],\n",
       "       ..., \n",
       "       [-0.11413958],\n",
       "       [ 0.24220835],\n",
       "       [ 0.50120896]], dtype=float32)"
      ]
     },
     "execution_count": 37,
     "metadata": {},
     "output_type": "execute_result"
    }
   ],
   "source": [
    "model.predict(predict_feature)"
   ]
  },
  {
   "cell_type": "code",
   "execution_count": null,
   "metadata": {
    "collapsed": true
   },
   "outputs": [],
   "source": []
  }
 ],
 "metadata": {
  "kernelspec": {
   "display_name": "Python 3",
   "language": "python",
   "name": "python3"
  },
  "language_info": {
   "codemirror_mode": {
    "name": "ipython",
    "version": 3
   },
   "file_extension": ".py",
   "mimetype": "text/x-python",
   "name": "python",
   "nbconvert_exporter": "python",
   "pygments_lexer": "ipython3",
   "version": "3.5.3"
  }
 },
 "nbformat": 4,
 "nbformat_minor": 2
}
