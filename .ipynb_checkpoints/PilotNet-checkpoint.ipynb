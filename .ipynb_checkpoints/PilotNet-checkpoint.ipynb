{
 "cells": [
  {
   "cell_type": "markdown",
   "metadata": {},
   "source": [
    "## 修改训练集\n",
    "## 修改网络结构，参考pilotnet\n",
    "## 修改评估函数"
   ]
  },
  {
   "cell_type": "code",
   "execution_count": 32,
   "metadata": {
    "collapsed": true
   },
   "outputs": [],
   "source": [
    "import cv2\n",
    "import numpy as np\n",
    "import pandas as pd"
   ]
  },
  {
   "cell_type": "code",
   "execution_count": 33,
   "metadata": {
    "collapsed": true
   },
   "outputs": [],
   "source": [
    "mkv_file_path = ['./epochs/epoch{:02d}_front.mkv'.format(i) for i in range(1,10)]\n",
    "steering_file_path = ['./epochs/epoch{:02d}_steering.csv'.format(i) for i in range(1,10)]\n",
    "paths = [mkv_file_path,steering_file_path]"
   ]
  },
  {
   "cell_type": "code",
   "execution_count": 34,
   "metadata": {
    "collapsed": true
   },
   "outputs": [],
   "source": [
    "#数据预处理方法\n",
    "def read_mkv(path):\n",
    "    cap = cv2.VideoCapture(path)\n",
    "    success,frame = cap.read()\n",
    "    pic = []\n",
    "\n",
    "    while(success):\n",
    "        frame = cv2.resize(frame,(320,180),interpolation=cv2.INTER_CUBIC)\n",
    "        pic.append(frame[80:-30][30:-30])\n",
    "\n",
    "        success,frame = cap.read()\n",
    "    return np.array(pic)\n",
    "\n",
    "def read_steering(path):\n",
    "    return pd.read_csv(path).wheel.values"
   ]
  },
  {
   "cell_type": "code",
   "execution_count": 16,
   "metadata": {
    "collapsed": true
   },
   "outputs": [],
   "source": [
    "# 读取所有视频和转向角度\n",
    "features=[]\n",
    "labels = []\n",
    "for i in range(9):\n",
    "    features.append(read_mkv(paths[0][i]))\n",
    "    labels.append(read_steering(paths[1][i]))"
   ]
  },
  {
   "cell_type": "code",
   "execution_count": 17,
   "metadata": {
    "collapsed": true
   },
   "outputs": [],
   "source": [
    "# 保存视频和转向角度\n",
    "feature = np.random.shuffle(np.concatenate(tuple(features)))\n",
    "label = np.concatenate(tuple(labels))\n",
    "\n",
    "np.save('feature.npy',feature)\n",
    "print('feature saved successfully!')\n",
    "\n",
    "np.save('label.npy',label)\n",
    "print('label saved successfully!')"
   ]
  },
  {
   "cell_type": "code",
   "execution_count": 2,
   "metadata": {},
   "outputs": [
    {
     "name": "stdout",
     "output_type": "stream",
     "text": [
      "feature loaded successfully!\n",
      "label loaded successfully!\n"
     ]
    },
    {
     "data": {
      "text/plain": [
       "(24300, 70, 320, 3)"
      ]
     },
     "execution_count": 2,
     "metadata": {},
     "output_type": "execute_result"
    }
   ],
   "source": [
    "#加载数据\n",
    "feature = np.load('feature.npy')\n",
    "print('feature loaded successfully!')\n",
    "label = np.load('label.npy')\n",
    "print('label loaded successfully!')\n",
    "feature.shape"
   ]
  },
  {
   "cell_type": "code",
   "execution_count": 5,
   "metadata": {},
   "outputs": [],
   "source": [
    "from keras.layers import Dense,Activation,Convolution2D,MaxPooling2D,Flatten,Dropout,BatchNormalization\n",
    "from keras.models import Sequential\n",
    "from keras.optimizers import Adam,Adadelta"
   ]
  },
  {
   "cell_type": "code",
   "execution_count": 27,
   "metadata": {},
   "outputs": [],
   "source": [
    "model = Sequential()\n",
    "\n",
    "model.add(Convolution2D(kernel_size=(5,5),filters = 24,padding='same',strides=(2,2),input_shape=(70,320,3),data_format='channels_last',kernel_initializer='truncated_normal'))\n",
    "model.add(Activation('relu'))\n",
    "# model.add(MaxPooling2D(pool_size=(2,2)))\n",
    "model.add(BatchNormalization())\n",
    "\n",
    "model.add(Convolution2D(kernel_size=(5,5),filters = 36,padding='same',strides=(2,2),data_format='channels_last'))\n",
    "model.add(Activation('relu'))\n",
    "# model.add(MaxPooling2D(pool_size=(2,2)))\n",
    "model.add(BatchNormalization())\n",
    "\n",
    "model.add(Convolution2D(kernel_size=(5,5),filters = 48,padding='same',strides=(2,2),data_format='channels_last'))\n",
    "model.add(Activation('relu'))\n",
    "# model.add(MaxPooling2D(pool_size=(2,2)))\n",
    "model.add(BatchNormalization())\n",
    "\n",
    "# model.add(Convolution2D(kernel_size=(5,5),filters = 128,padding='same',strides=(1,1),data_format='channels_last'))\n",
    "# model.add(Activation('relu'))\n",
    "# model.add(MaxPooling2D(pool_size=(2,2)))\n",
    "\n",
    "model.add(Convolution2D(kernel_size=(3,3),filters = 64,padding='same',strides=(1,1),data_format='channels_last'))\n",
    "model.add(Activation('relu'))\n",
    "# model.add(MaxPooling2D(pool_size=(2,2)))\n",
    "model.add(BatchNormalization())\n",
    "\n",
    "model.add(Convolution2D(kernel_size=(3,3),filters = 64,padding='same',strides=(1,1),data_format='channels_last'))\n",
    "model.add(Activation('relu'))\n",
    "# model.add(MaxPooling2D(pool_size=(2,2)))\n",
    "model.add(BatchNormalization())\n",
    "\n",
    "model.add(Flatten())\n",
    "model.add(Dense(100))\n",
    "model.add(Activation('relu'))\n",
    "model.add(BatchNormalization())\n",
    "# model.add(Dropout(0.6))\n",
    "\n",
    "model.add(Dense(50))\n",
    "model.add(Activation('relu'))\n",
    "model.add(BatchNormalization())\n",
    "# model.add(Dropout(0.6))\n",
    "\n",
    "model.add(Dense(10))\n",
    "model.add(Activation('relu'))\n",
    "model.add(BatchNormalization())\n",
    "# model.add(Dropout(0.6))\n",
    "\n",
    "model.add(Dense(1))\n",
    "adam = Adadelta()"
   ]
  },
  {
   "cell_type": "code",
   "execution_count": 28,
   "metadata": {},
   "outputs": [
    {
     "data": {
      "text/plain": [
       "33.0"
      ]
     },
     "execution_count": 28,
     "metadata": {},
     "output_type": "execute_result"
    }
   ],
   "source": [
    "label.max() - label.min()"
   ]
  },
  {
   "cell_type": "code",
   "execution_count": 7,
   "metadata": {
    "collapsed": true
   },
   "outputs": [],
   "source": [
    "import keras.backend as K\n",
    "\n",
    "def missing_rate(y_true, y_pred):\n",
    "    return K.mean(abs(y_pred-y_true))/33."
   ]
  },
  {
   "cell_type": "code",
   "execution_count": 29,
   "metadata": {
    "collapsed": true
   },
   "outputs": [],
   "source": [
    "model.compile(optimizer=adam,\n",
    "             loss = 'mean_squared_error',\n",
    "             metrics = ['mae',missing_rate])"
   ]
  },
  {
   "cell_type": "code",
   "execution_count": 9,
   "metadata": {
    "scrolled": true
   },
   "outputs": [
    {
     "name": "stdout",
     "output_type": "stream",
     "text": [
      "_________________________________________________________________\n",
      "Layer (type)                 Output Shape              Param #   \n",
      "=================================================================\n",
      "conv2d_2 (Conv2D)            (None, 35, 160, 24)       1824      \n",
      "_________________________________________________________________\n",
      "activation_2 (Activation)    (None, 35, 160, 24)       0         \n",
      "_________________________________________________________________\n",
      "batch_normalization_1 (Batch (None, 35, 160, 24)       96        \n",
      "_________________________________________________________________\n",
      "conv2d_3 (Conv2D)            (None, 18, 80, 36)        21636     \n",
      "_________________________________________________________________\n",
      "activation_3 (Activation)    (None, 18, 80, 36)        0         \n",
      "_________________________________________________________________\n",
      "batch_normalization_2 (Batch (None, 18, 80, 36)        144       \n",
      "_________________________________________________________________\n",
      "conv2d_4 (Conv2D)            (None, 18, 80, 48)        43248     \n",
      "_________________________________________________________________\n",
      "activation_4 (Activation)    (None, 18, 80, 48)        0         \n",
      "_________________________________________________________________\n",
      "batch_normalization_3 (Batch (None, 18, 80, 48)        192       \n",
      "_________________________________________________________________\n",
      "conv2d_5 (Conv2D)            (None, 18, 80, 64)        27712     \n",
      "_________________________________________________________________\n",
      "activation_5 (Activation)    (None, 18, 80, 64)        0         \n",
      "_________________________________________________________________\n",
      "batch_normalization_4 (Batch (None, 18, 80, 64)        256       \n",
      "_________________________________________________________________\n",
      "conv2d_6 (Conv2D)            (None, 18, 80, 64)        36928     \n",
      "_________________________________________________________________\n",
      "activation_6 (Activation)    (None, 18, 80, 64)        0         \n",
      "_________________________________________________________________\n",
      "batch_normalization_5 (Batch (None, 18, 80, 64)        256       \n",
      "_________________________________________________________________\n",
      "flatten_1 (Flatten)          (None, 92160)             0         \n",
      "_________________________________________________________________\n",
      "dense_1 (Dense)              (None, 100)               9216100   \n",
      "_________________________________________________________________\n",
      "activation_7 (Activation)    (None, 100)               0         \n",
      "_________________________________________________________________\n",
      "batch_normalization_6 (Batch (None, 100)               400       \n",
      "_________________________________________________________________\n",
      "dense_2 (Dense)              (None, 50)                5050      \n",
      "_________________________________________________________________\n",
      "activation_8 (Activation)    (None, 50)                0         \n",
      "_________________________________________________________________\n",
      "batch_normalization_7 (Batch (None, 50)                200       \n",
      "_________________________________________________________________\n",
      "dense_3 (Dense)              (None, 10)                510       \n",
      "_________________________________________________________________\n",
      "activation_9 (Activation)    (None, 10)                0         \n",
      "_________________________________________________________________\n",
      "batch_normalization_8 (Batch (None, 10)                40        \n",
      "_________________________________________________________________\n",
      "dense_4 (Dense)              (None, 1)                 11        \n",
      "=================================================================\n",
      "Total params: 9,354,603\n",
      "Trainable params: 9,353,811\n",
      "Non-trainable params: 792\n",
      "_________________________________________________________________\n"
     ]
    }
   ],
   "source": [
    "model.summary()"
   ]
  },
  {
   "cell_type": "code",
   "execution_count": 27,
   "metadata": {},
   "outputs": [
    {
     "data": {
      "text/plain": [
       "<matplotlib.image.AxesImage at 0x1a408680518>"
      ]
     },
     "execution_count": 27,
     "metadata": {},
     "output_type": "execute_result"
    },
    {
     "data": {
      "image/png": "[encoded data removed]",
      "text/plain": [
       "<matplotlib.figure.Figure at 0x1a40803be48>"
      ]
     },
     "metadata": {
      "image/png": {
       "height": 107,
       "width": 370
      }
     },
     "output_type": "display_data"
    }
   ],
   "source": [
    "%matplotlib inline\n",
    "%config InlineBackend.figure_format = 'retina'\n",
    "import matplotlib.pyplot as plt\n",
    "plt.imshow(feature[10000])"
   ]
  },
  {
   "cell_type": "code",
   "execution_count": 10,
   "metadata": {},
   "outputs": [
    {
     "name": "stdout",
     "output_type": "stream",
     "text": [
      "Epoch 1/1\n",
      "27000/27000 [==============================] - 62s - loss: 11.0580 - acc: 0.0813    \n"
     ]
    },
    {
     "data": {
      "text/plain": [
       "<keras.callbacks.History at 0x1e9a9234080>"
      ]
     },
     "execution_count": 10,
     "metadata": {},
     "output_type": "execute_result"
    }
   ],
   "source": [
    "model.fit(feature,label,batch_size=64,shuffle=True,epochs=1)"
   ]
  },
  {
   "cell_type": "code",
   "execution_count": 30,
   "metadata": {},
   "outputs": [
    {
     "name": "stdout",
     "output_type": "stream",
     "text": [
      "Epoch 1/10\n",
      "24300/24300 [==============================] - 39s - loss: 5.6871 - mean_absolute_error: 1.5942 - missing_rate: 0.0483    \n",
      "Epoch 2/10\n",
      "24300/24300 [==============================] - 35s - loss: 1.3959 - mean_absolute_error: 0.8091 - missing_rate: 0.0245    \n",
      "Epoch 3/10\n",
      "24300/24300 [==============================] - 35s - loss: 0.6192 - mean_absolute_error: 0.5618 - missing_rate: 0.0170    \n",
      "Epoch 4/10\n",
      "24300/24300 [==============================] - 35s - loss: 0.4934 - mean_absolute_error: 0.4989 - missing_rate: 0.0151    \n",
      "Epoch 5/10\n",
      "24300/24300 [==============================] - 35s - loss: 0.4072 - mean_absolute_error: 0.4563 - missing_rate: 0.0138    \n",
      "Epoch 6/10\n",
      "24300/24300 [==============================] - 36s - loss: 0.3483 - mean_absolute_error: 0.4179 - missing_rate: 0.0127    \n",
      "Epoch 7/10\n",
      "24300/24300 [==============================] - 35s - loss: 0.3736 - mean_absolute_error: 0.4277 - missing_rate: 0.0130    \n",
      "Epoch 8/10\n",
      "24300/24300 [==============================] - 35s - loss: 0.3149 - mean_absolute_error: 0.4008 - missing_rate: 0.0121    \n",
      "Epoch 9/10\n",
      "24300/24300 [==============================] - 35s - loss: 0.3166 - mean_absolute_error: 0.4086 - missing_rate: 0.0124    \n",
      "Epoch 10/10\n",
      "24300/24300 [==============================] - 35s - loss: 0.2501 - mean_absolute_error: 0.3661 - missing_rate: 0.0111    \n"
     ]
    },
    {
     "data": {
      "text/plain": [
       "<keras.callbacks.History at 0x1bfba5d7b00>"
      ]
     },
     "execution_count": 30,
     "metadata": {},
     "output_type": "execute_result"
    }
   ],
   "source": [
    "model.fit(feature,label,batch_size=256,shuffle=True,epochs=10)"
   ]
  },
  {
   "cell_type": "code",
   "execution_count": 34,
   "metadata": {},
   "outputs": [
    {
     "name": "stdout",
     "output_type": "stream",
     "text": [
      "_________________________________________________________________\n",
      "Layer (type)                 Output Shape              Param #   \n",
      "=================================================================\n",
      "conv2d_47 (Conv2D)           (None, 35, 160, 64)       9472      \n",
      "_________________________________________________________________\n",
      "activation_57 (Activation)   (None, 35, 160, 64)       0         \n",
      "_________________________________________________________________\n",
      "max_pooling2d_36 (MaxPooling (None, 17, 79, 64)        0         \n",
      "_________________________________________________________________\n",
      "conv2d_48 (Conv2D)           (None, 17, 79, 64)        36928     \n",
      "_________________________________________________________________\n",
      "activation_58 (Activation)   (None, 17, 79, 64)        0         \n",
      "_________________________________________________________________\n",
      "conv2d_49 (Conv2D)           (None, 17, 79, 64)        36928     \n",
      "_________________________________________________________________\n",
      "activation_59 (Activation)   (None, 17, 79, 64)        0         \n",
      "_________________________________________________________________\n",
      "max_pooling2d_37 (MaxPooling (None, 8, 39, 64)         0         \n",
      "_________________________________________________________________\n",
      "conv2d_50 (Conv2D)           (None, 8, 39, 128)        73856     \n",
      "_________________________________________________________________\n",
      "activation_60 (Activation)   (None, 8, 39, 128)        0         \n",
      "_________________________________________________________________\n",
      "max_pooling2d_38 (MaxPooling (None, 4, 19, 128)        0         \n",
      "_________________________________________________________________\n",
      "conv2d_51 (Conv2D)           (None, 4, 19, 128)        147584    \n",
      "_________________________________________________________________\n",
      "activation_61 (Activation)   (None, 4, 19, 128)        0         \n",
      "_________________________________________________________________\n",
      "max_pooling2d_39 (MaxPooling (None, 2, 9, 128)         0         \n",
      "_________________________________________________________________\n",
      "conv2d_52 (Conv2D)           (None, 2, 9, 512)         590336    \n",
      "_________________________________________________________________\n",
      "activation_62 (Activation)   (None, 2, 9, 512)         0         \n",
      "_________________________________________________________________\n",
      "max_pooling2d_40 (MaxPooling (None, 1, 4, 512)         0         \n",
      "_________________________________________________________________\n",
      "flatten_7 (Flatten)          (None, 2048)              0         \n",
      "_________________________________________________________________\n",
      "dense_17 (Dense)             (None, 1000)              2049000   \n",
      "_________________________________________________________________\n",
      "activation_63 (Activation)   (None, 1000)              0         \n",
      "_________________________________________________________________\n",
      "dropout_11 (Dropout)         (None, 1000)              0         \n",
      "_________________________________________________________________\n",
      "dense_18 (Dense)             (None, 1)                 1001      \n",
      "=================================================================\n",
      "Total params: 2,945,105\n",
      "Trainable params: 2,945,105\n",
      "Non-trainable params: 0\n",
      "_________________________________________________________________\n"
     ]
    }
   ],
   "source": [
    "model.summary()"
   ]
  },
  {
   "cell_type": "code",
   "execution_count": 12,
   "metadata": {
    "collapsed": true
   },
   "outputs": [],
   "source": [
    "#保存模型配置和权重\n",
    "import h5py\n",
    "model.save_weights('models/model2.h5')\n",
    "with open('models/model2.json','w') as f:\n",
    "    f.write(model.to_json())\n",
    "    f.close()\n",
    "    "
   ]
  },
  {
   "cell_type": "code",
   "execution_count": null,
   "metadata": {
    "collapsed": true
   },
   "outputs": [],
   "source": [
    "model.save_weights('models/model2.h5')\n",
    "with open('models/model2.json','w') as f:\n",
    "    f.write(model.to_json())\n",
    "    f.close()"
   ]
  },
  {
   "cell_type": "code",
   "execution_count": 4,
   "metadata": {},
   "outputs": [
    {
     "data": {
      "text/plain": [
       "(2700, 70, 320, 3)"
      ]
     },
     "execution_count": 4,
     "metadata": {},
     "output_type": "execute_result"
    }
   ],
   "source": [
    "s = read_mkv('./epochs/epoch10_front.mkv')\n",
    "s.shape"
   ]
  },
  {
   "cell_type": "code",
   "execution_count": 15,
   "metadata": {
    "collapsed": true
   },
   "outputs": [],
   "source": [
    "with open('models/model2.json','r') as f:\n",
    "    string = f.read()"
   ]
  },
  {
   "cell_type": "code",
   "execution_count": 16,
   "metadata": {
    "collapsed": true
   },
   "outputs": [],
   "source": [
    "from keras.models import model_from_json\n",
    "model = model_from_json(string)\n",
    "model.load_weights('models/model2.h5')"
   ]
  },
  {
   "cell_type": "code",
   "execution_count": 7,
   "metadata": {},
   "outputs": [
    {
     "name": "stdout",
     "output_type": "stream",
     "text": [
      "_________________________________________________________________\n",
      "Layer (type)                 Output Shape              Param #   \n",
      "=================================================================\n",
      "conv2d_1 (Conv2D)            (None, 70, 320, 6)        456       \n",
      "_________________________________________________________________\n",
      "activation_1 (Activation)    (None, 70, 320, 6)        0         \n",
      "_________________________________________________________________\n",
      "max_pooling2d_1 (MaxPooling2 (None, 35, 160, 6)        0         \n",
      "_________________________________________________________________\n",
      "conv2d_2 (Conv2D)            (None, 35, 160, 16)       2416      \n",
      "_________________________________________________________________\n",
      "activation_2 (Activation)    (None, 35, 160, 16)       0         \n",
      "_________________________________________________________________\n",
      "max_pooling2d_2 (MaxPooling2 (None, 17, 80, 16)        0         \n",
      "_________________________________________________________________\n",
      "conv2d_3 (Conv2D)            (None, 17, 80, 128)       51328     \n",
      "_________________________________________________________________\n",
      "activation_3 (Activation)    (None, 17, 80, 128)       0         \n",
      "_________________________________________________________________\n",
      "max_pooling2d_3 (MaxPooling2 (None, 8, 40, 128)        0         \n",
      "_________________________________________________________________\n",
      "conv2d_4 (Conv2D)            (None, 8, 40, 128)        409728    \n",
      "_________________________________________________________________\n",
      "activation_4 (Activation)    (None, 8, 40, 128)        0         \n",
      "_________________________________________________________________\n",
      "max_pooling2d_4 (MaxPooling2 (None, 4, 20, 128)        0         \n",
      "_________________________________________________________________\n",
      "flatten_1 (Flatten)          (None, 10240)             0         \n",
      "_________________________________________________________________\n",
      "dense_1 (Dense)              (None, 120)               1228920   \n",
      "_________________________________________________________________\n",
      "activation_5 (Activation)    (None, 120)               0         \n",
      "_________________________________________________________________\n",
      "dropout_1 (Dropout)          (None, 120)               0         \n",
      "_________________________________________________________________\n",
      "dense_2 (Dense)              (None, 84)                10164     \n",
      "_________________________________________________________________\n",
      "activation_6 (Activation)    (None, 84)                0         \n",
      "_________________________________________________________________\n",
      "dropout_2 (Dropout)          (None, 84)                0         \n",
      "_________________________________________________________________\n",
      "dense_3 (Dense)              (None, 1)                 85        \n",
      "=================================================================\n",
      "Total params: 1,703,097\n",
      "Trainable params: 1,703,097\n",
      "Non-trainable params: 0\n",
      "_________________________________________________________________\n"
     ]
    }
   ],
   "source": [
    "model.summary()"
   ]
  },
  {
   "cell_type": "code",
   "execution_count": 19,
   "metadata": {},
   "outputs": [
    {
     "name": "stdout",
     "output_type": "stream",
     "text": [
      "2688/2700 [============================>.] - ETA: 0s"
     ]
    },
    {
     "data": {
      "text/plain": [
       "[9860.6739568865742, 79.980120600947629, 2.4236399710619891]"
      ]
     },
     "execution_count": 19,
     "metadata": {},
     "output_type": "execute_result"
    }
   ],
   "source": [
    "predict_feature = read_mkv('epochs/epoch10_front.mkv')\n",
    "y_true = read_steering('epochs/epoch10_steering.csv')\n",
    "model.evaluate(predict_feature,y_true,batch_size=128)"
   ]
  },
  {
   "cell_type": "code",
   "execution_count": 31,
   "metadata": {},
   "outputs": [
    {
     "name": "stdout",
     "output_type": "stream",
     "text": [
      "2688/2700 [============================>.] - ETA: 0s"
     ]
    },
    {
     "data": {
      "text/plain": [
       "[26817451.792592593, 5053.8314633969903, 153.14640860098379]"
      ]
     },
     "execution_count": 31,
     "metadata": {},
     "output_type": "execute_result"
    }
   ],
   "source": [
    "predict_feature = read_mkv('epochs/epoch10_front.mkv')\n",
    "y_true = read_steering('epochs/epoch10_steering.csv')\n",
    "model.evaluate(predict_feature,y_true,batch_size=128)"
   ]
  },
  {
   "cell_type": "code",
   "execution_count": null,
   "metadata": {
    "collapsed": true
   },
   "outputs": [],
   "source": []
  }
 ],
 "metadata": {
  "kernelspec": {
   "display_name": "Python 3",
   "language": "python",
   "name": "python3"
  },
  "language_info": {
   "codemirror_mode": {
    "name": "ipython",
    "version": 3
   },
   "file_extension": ".py",
   "mimetype": "text/x-python",
   "name": "python",
   "nbconvert_exporter": "python",
   "pygments_lexer": "ipython3",
   "version": "3.5.3"
  }
 },
 "nbformat": 4,
 "nbformat_minor": 2
}
